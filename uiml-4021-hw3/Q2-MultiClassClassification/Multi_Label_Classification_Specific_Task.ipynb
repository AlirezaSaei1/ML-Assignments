{
 "cells": [
  {
   "cell_type": "markdown",
   "id": "26d0c1ab",
   "metadata": {},
   "source": [
    "\n",
    "# Multi-label Classification with the PriceRunner Dataset\n",
    "\n",
    "## Task Overview\n",
    "In this exercise, you will develop a multi-label classification model to classify products into multiple categories based on their 'Product Title' and 'Cluster Label'. The target variable for classification will be 'Category Label'.\n",
    "\n",
    "Your task includes selecting the right features, preprocessing the data, implementing a multi-label classification model, and evaluating its performance.\n",
    "\n",
    "Complete the sections marked `# TODO` and run each cell to see the output of your code.\n"
   ]
  },
  {
   "cell_type": "markdown",
   "id": "30800932",
   "metadata": {},
   "source": [
    "## Required Libraries"
   ]
  },
  {
   "cell_type": "code",
   "execution_count": 1,
   "id": "ccee566e",
   "metadata": {},
   "outputs": [],
   "source": [
    "import pandas as pd\n",
    "import seaborn as sns\n",
    "import matplotlib.pyplot as plt\n",
    "from sklearn.feature_extraction.text import CountVectorizer\n",
    "from sklearn.model_selection import train_test_split\n",
    "from sklearn.naive_bayes import MultinomialNB\n",
    "from sklearn.metrics import accuracy_score, classification_report, confusion_matrix"
   ]
  },
  {
   "cell_type": "markdown",
   "id": "52123d7b",
   "metadata": {},
   "source": [
    "\n",
    "## Step 1: Data Loading\n",
    "Load the dataset into a Pandas DataFrame.\n"
   ]
  },
  {
   "cell_type": "code",
   "execution_count": 2,
   "id": "1dddb351",
   "metadata": {},
   "outputs": [
    {
     "data": {
      "text/html": [
       "<div>\n",
       "<style scoped>\n",
       "    .dataframe tbody tr th:only-of-type {\n",
       "        vertical-align: middle;\n",
       "    }\n",
       "\n",
       "    .dataframe tbody tr th {\n",
       "        vertical-align: top;\n",
       "    }\n",
       "\n",
       "    .dataframe thead th {\n",
       "        text-align: right;\n",
       "    }\n",
       "</style>\n",
       "<table border=\"1\" class=\"dataframe\">\n",
       "  <thead>\n",
       "    <tr style=\"text-align: right;\">\n",
       "      <th></th>\n",
       "      <th>Product ID</th>\n",
       "      <th>Product Title</th>\n",
       "      <th>Merchant ID</th>\n",
       "      <th>Cluster ID</th>\n",
       "      <th>Cluster Label</th>\n",
       "      <th>Category ID</th>\n",
       "      <th>Category Label</th>\n",
       "    </tr>\n",
       "  </thead>\n",
       "  <tbody>\n",
       "    <tr>\n",
       "      <th>0</th>\n",
       "      <td>1</td>\n",
       "      <td>apple iphone 8 plus 64gb silver</td>\n",
       "      <td>1</td>\n",
       "      <td>1</td>\n",
       "      <td>Apple iPhone 8 Plus 64GB</td>\n",
       "      <td>2612</td>\n",
       "      <td>Mobile Phones</td>\n",
       "    </tr>\n",
       "    <tr>\n",
       "      <th>1</th>\n",
       "      <td>2</td>\n",
       "      <td>apple iphone 8 plus 64 gb spacegrau</td>\n",
       "      <td>2</td>\n",
       "      <td>1</td>\n",
       "      <td>Apple iPhone 8 Plus 64GB</td>\n",
       "      <td>2612</td>\n",
       "      <td>Mobile Phones</td>\n",
       "    </tr>\n",
       "    <tr>\n",
       "      <th>2</th>\n",
       "      <td>3</td>\n",
       "      <td>apple mq8n2b/a iphone 8 plus 64gb 5.5 12mp sim...</td>\n",
       "      <td>3</td>\n",
       "      <td>1</td>\n",
       "      <td>Apple iPhone 8 Plus 64GB</td>\n",
       "      <td>2612</td>\n",
       "      <td>Mobile Phones</td>\n",
       "    </tr>\n",
       "    <tr>\n",
       "      <th>3</th>\n",
       "      <td>4</td>\n",
       "      <td>apple iphone 8 plus 64gb space grey</td>\n",
       "      <td>4</td>\n",
       "      <td>1</td>\n",
       "      <td>Apple iPhone 8 Plus 64GB</td>\n",
       "      <td>2612</td>\n",
       "      <td>Mobile Phones</td>\n",
       "    </tr>\n",
       "    <tr>\n",
       "      <th>4</th>\n",
       "      <td>5</td>\n",
       "      <td>apple iphone 8 plus gold 5.5 64gb 4g unlocked ...</td>\n",
       "      <td>5</td>\n",
       "      <td>1</td>\n",
       "      <td>Apple iPhone 8 Plus 64GB</td>\n",
       "      <td>2612</td>\n",
       "      <td>Mobile Phones</td>\n",
       "    </tr>\n",
       "  </tbody>\n",
       "</table>\n",
       "</div>"
      ],
      "text/plain": [
       "   Product ID                                      Product Title  \\\n",
       "0           1                    apple iphone 8 plus 64gb silver   \n",
       "1           2                apple iphone 8 plus 64 gb spacegrau   \n",
       "2           3  apple mq8n2b/a iphone 8 plus 64gb 5.5 12mp sim...   \n",
       "3           4                apple iphone 8 plus 64gb space grey   \n",
       "4           5  apple iphone 8 plus gold 5.5 64gb 4g unlocked ...   \n",
       "\n",
       "    Merchant ID   Cluster ID             Cluster Label   Category ID  \\\n",
       "0             1            1  Apple iPhone 8 Plus 64GB          2612   \n",
       "1             2            1  Apple iPhone 8 Plus 64GB          2612   \n",
       "2             3            1  Apple iPhone 8 Plus 64GB          2612   \n",
       "3             4            1  Apple iPhone 8 Plus 64GB          2612   \n",
       "4             5            1  Apple iPhone 8 Plus 64GB          2612   \n",
       "\n",
       "   Category Label  \n",
       "0   Mobile Phones  \n",
       "1   Mobile Phones  \n",
       "2   Mobile Phones  \n",
       "3   Mobile Phones  \n",
       "4   Mobile Phones  "
      ]
     },
     "execution_count": 2,
     "metadata": {},
     "output_type": "execute_result"
    }
   ],
   "source": [
    "dataset = pd.read_csv('Dataset\\pricerunner_aggregate.csv')\n",
    "dataset.head()"
   ]
  },
  {
   "cell_type": "markdown",
   "id": "0ff72f7b",
   "metadata": {},
   "source": [
    "\n",
    "## Step 2: Data Preprocessing\n",
    "Preprocess the 'Product Title' and 'Cluster Label' features and encode the 'Category Label'.\n"
   ]
  },
  {
   "cell_type": "code",
   "execution_count": 3,
   "id": "b345c6da",
   "metadata": {},
   "outputs": [],
   "source": [
    "columns = dataset.columns\n",
    "\n",
    "# Remove spaces from column names\n",
    "columns_stripped = [column.strip() for column in columns]\n",
    "\n",
    "# Update the column names in the dataset\n",
    "dataset.columns = columns_stripped"
   ]
  },
  {
   "cell_type": "code",
   "execution_count": 4,
   "id": "618d5320",
   "metadata": {},
   "outputs": [
    {
     "name": "stdout",
     "output_type": "stream",
     "text": [
      "Number of Categories: 10\n",
      "{'Dishwashers', 'Freezers', 'Microwaves', 'CPUs', 'TVs', 'Fridge Freezers', 'Washing Machines', 'Mobile Phones', 'Fridges', 'Digital Cameras'}\n"
     ]
    }
   ],
   "source": [
    "categories = set(dataset['Category Label'])\n",
    "print(\"Number of Categories:\", len(categories))\n",
    "print(categories)"
   ]
  },
  {
   "cell_type": "code",
   "execution_count": 5,
   "id": "3c90cd7a",
   "metadata": {},
   "outputs": [],
   "source": [
    "# Preprocess 'Product Title'\n",
    "dataset['Product Title'] = dataset['Product Title'].str.strip()\n",
    "dataset['Product Title'] = dataset['Product Title'].str.lower()\n",
    "\n",
    "# Preprocess 'Cluster Label'\n",
    "dataset['Cluster Label'] = dataset['Cluster Label'].str.strip()\n",
    "dataset['Cluster Label'] = dataset['Cluster Label'].str.lower()\n",
    "\n",
    "# Encode 'Category Label'\n",
    "category_mapping = {\n",
    "    'Microwaves': 0,\n",
    "    'Digital Cameras': 1,\n",
    "    'Dishwashers': 2,\n",
    "    'Freezers': 3,\n",
    "    'Fridge Freezers': 4,\n",
    "    'TVs': 5,\n",
    "    'Washing Machines': 6,\n",
    "    'Mobile Phones': 7,\n",
    "    'Fridges': 8,\n",
    "    'CPUs': 9\n",
    "}\n",
    "dataset['Category Label'] = dataset['Category Label'].map(category_mapping)"
   ]
  },
  {
   "cell_type": "code",
   "execution_count": 6,
   "id": "e7baf79a",
   "metadata": {},
   "outputs": [
    {
     "data": {
      "text/html": [
       "<div>\n",
       "<style scoped>\n",
       "    .dataframe tbody tr th:only-of-type {\n",
       "        vertical-align: middle;\n",
       "    }\n",
       "\n",
       "    .dataframe tbody tr th {\n",
       "        vertical-align: top;\n",
       "    }\n",
       "\n",
       "    .dataframe thead th {\n",
       "        text-align: right;\n",
       "    }\n",
       "</style>\n",
       "<table border=\"1\" class=\"dataframe\">\n",
       "  <thead>\n",
       "    <tr style=\"text-align: right;\">\n",
       "      <th></th>\n",
       "      <th>Product ID</th>\n",
       "      <th>Product Title</th>\n",
       "      <th>Merchant ID</th>\n",
       "      <th>Cluster ID</th>\n",
       "      <th>Cluster Label</th>\n",
       "      <th>Category ID</th>\n",
       "      <th>Category Label</th>\n",
       "    </tr>\n",
       "  </thead>\n",
       "  <tbody>\n",
       "    <tr>\n",
       "      <th>0</th>\n",
       "      <td>1</td>\n",
       "      <td>apple iphone 8 plus 64gb silver</td>\n",
       "      <td>1</td>\n",
       "      <td>1</td>\n",
       "      <td>apple iphone 8 plus 64gb</td>\n",
       "      <td>2612</td>\n",
       "      <td>7</td>\n",
       "    </tr>\n",
       "    <tr>\n",
       "      <th>1</th>\n",
       "      <td>2</td>\n",
       "      <td>apple iphone 8 plus 64 gb spacegrau</td>\n",
       "      <td>2</td>\n",
       "      <td>1</td>\n",
       "      <td>apple iphone 8 plus 64gb</td>\n",
       "      <td>2612</td>\n",
       "      <td>7</td>\n",
       "    </tr>\n",
       "    <tr>\n",
       "      <th>2</th>\n",
       "      <td>3</td>\n",
       "      <td>apple mq8n2b/a iphone 8 plus 64gb 5.5 12mp sim...</td>\n",
       "      <td>3</td>\n",
       "      <td>1</td>\n",
       "      <td>apple iphone 8 plus 64gb</td>\n",
       "      <td>2612</td>\n",
       "      <td>7</td>\n",
       "    </tr>\n",
       "    <tr>\n",
       "      <th>3</th>\n",
       "      <td>4</td>\n",
       "      <td>apple iphone 8 plus 64gb space grey</td>\n",
       "      <td>4</td>\n",
       "      <td>1</td>\n",
       "      <td>apple iphone 8 plus 64gb</td>\n",
       "      <td>2612</td>\n",
       "      <td>7</td>\n",
       "    </tr>\n",
       "    <tr>\n",
       "      <th>4</th>\n",
       "      <td>5</td>\n",
       "      <td>apple iphone 8 plus gold 5.5 64gb 4g unlocked ...</td>\n",
       "      <td>5</td>\n",
       "      <td>1</td>\n",
       "      <td>apple iphone 8 plus 64gb</td>\n",
       "      <td>2612</td>\n",
       "      <td>7</td>\n",
       "    </tr>\n",
       "  </tbody>\n",
       "</table>\n",
       "</div>"
      ],
      "text/plain": [
       "   Product ID                                      Product Title  Merchant ID  \\\n",
       "0           1                    apple iphone 8 plus 64gb silver            1   \n",
       "1           2                apple iphone 8 plus 64 gb spacegrau            2   \n",
       "2           3  apple mq8n2b/a iphone 8 plus 64gb 5.5 12mp sim...            3   \n",
       "3           4                apple iphone 8 plus 64gb space grey            4   \n",
       "4           5  apple iphone 8 plus gold 5.5 64gb 4g unlocked ...            5   \n",
       "\n",
       "   Cluster ID             Cluster Label  Category ID  Category Label  \n",
       "0           1  apple iphone 8 plus 64gb         2612               7  \n",
       "1           1  apple iphone 8 plus 64gb         2612               7  \n",
       "2           1  apple iphone 8 plus 64gb         2612               7  \n",
       "3           1  apple iphone 8 plus 64gb         2612               7  \n",
       "4           1  apple iphone 8 plus 64gb         2612               7  "
      ]
     },
     "execution_count": 6,
     "metadata": {},
     "output_type": "execute_result"
    }
   ],
   "source": [
    "dataset.head()"
   ]
  },
  {
   "cell_type": "markdown",
   "id": "277a5058",
   "metadata": {},
   "source": [
    "### Extract Required Fields"
   ]
  },
  {
   "cell_type": "code",
   "execution_count": 7,
   "id": "a571e293",
   "metadata": {},
   "outputs": [],
   "source": [
    "X = dataset[['Product Title', 'Cluster Label']]\n",
    "y = dataset['Category Label']"
   ]
  },
  {
   "cell_type": "markdown",
   "id": "95afad12",
   "metadata": {},
   "source": [
    "### Train Test Split"
   ]
  },
  {
   "cell_type": "code",
   "execution_count": 8,
   "id": "d72f3aab",
   "metadata": {},
   "outputs": [],
   "source": [
    "X_train, X_test, y_train, y_test = train_test_split(X, y, test_size=0.2, random_state=42)"
   ]
  },
  {
   "cell_type": "markdown",
   "id": "05afd518",
   "metadata": {},
   "source": [
    "### Vectorize the text data using CountVectorizer"
   ]
  },
  {
   "cell_type": "code",
   "execution_count": 9,
   "id": "98c91371",
   "metadata": {},
   "outputs": [],
   "source": [
    "vectorizer = CountVectorizer()\n",
    "X_train_vectorized = vectorizer.fit_transform(X_train['Product Title'] + ' ' + X_train['Cluster Label'])\n",
    "X_test_vectorized = vectorizer.transform(X_test['Product Title'] + ' ' + X_test['Cluster Label'])"
   ]
  },
  {
   "cell_type": "markdown",
   "id": "76b226e9",
   "metadata": {},
   "source": [
    "\n",
    "## Step 3: Model Training\n",
    "Implement and train a multi-label classification model.\n"
   ]
  },
  {
   "cell_type": "code",
   "execution_count": 10,
   "id": "03af66a0",
   "metadata": {},
   "outputs": [
    {
     "data": {
      "text/html": [
       "<style>#sk-container-id-1 {color: black;background-color: white;}#sk-container-id-1 pre{padding: 0;}#sk-container-id-1 div.sk-toggleable {background-color: white;}#sk-container-id-1 label.sk-toggleable__label {cursor: pointer;display: block;width: 100%;margin-bottom: 0;padding: 0.3em;box-sizing: border-box;text-align: center;}#sk-container-id-1 label.sk-toggleable__label-arrow:before {content: \"▸\";float: left;margin-right: 0.25em;color: #696969;}#sk-container-id-1 label.sk-toggleable__label-arrow:hover:before {color: black;}#sk-container-id-1 div.sk-estimator:hover label.sk-toggleable__label-arrow:before {color: black;}#sk-container-id-1 div.sk-toggleable__content {max-height: 0;max-width: 0;overflow: hidden;text-align: left;background-color: #f0f8ff;}#sk-container-id-1 div.sk-toggleable__content pre {margin: 0.2em;color: black;border-radius: 0.25em;background-color: #f0f8ff;}#sk-container-id-1 input.sk-toggleable__control:checked~div.sk-toggleable__content {max-height: 200px;max-width: 100%;overflow: auto;}#sk-container-id-1 input.sk-toggleable__control:checked~label.sk-toggleable__label-arrow:before {content: \"▾\";}#sk-container-id-1 div.sk-estimator input.sk-toggleable__control:checked~label.sk-toggleable__label {background-color: #d4ebff;}#sk-container-id-1 div.sk-label input.sk-toggleable__control:checked~label.sk-toggleable__label {background-color: #d4ebff;}#sk-container-id-1 input.sk-hidden--visually {border: 0;clip: rect(1px 1px 1px 1px);clip: rect(1px, 1px, 1px, 1px);height: 1px;margin: -1px;overflow: hidden;padding: 0;position: absolute;width: 1px;}#sk-container-id-1 div.sk-estimator {font-family: monospace;background-color: #f0f8ff;border: 1px dotted black;border-radius: 0.25em;box-sizing: border-box;margin-bottom: 0.5em;}#sk-container-id-1 div.sk-estimator:hover {background-color: #d4ebff;}#sk-container-id-1 div.sk-parallel-item::after {content: \"\";width: 100%;border-bottom: 1px solid gray;flex-grow: 1;}#sk-container-id-1 div.sk-label:hover label.sk-toggleable__label {background-color: #d4ebff;}#sk-container-id-1 div.sk-serial::before {content: \"\";position: absolute;border-left: 1px solid gray;box-sizing: border-box;top: 0;bottom: 0;left: 50%;z-index: 0;}#sk-container-id-1 div.sk-serial {display: flex;flex-direction: column;align-items: center;background-color: white;padding-right: 0.2em;padding-left: 0.2em;position: relative;}#sk-container-id-1 div.sk-item {position: relative;z-index: 1;}#sk-container-id-1 div.sk-parallel {display: flex;align-items: stretch;justify-content: center;background-color: white;position: relative;}#sk-container-id-1 div.sk-item::before, #sk-container-id-1 div.sk-parallel-item::before {content: \"\";position: absolute;border-left: 1px solid gray;box-sizing: border-box;top: 0;bottom: 0;left: 50%;z-index: -1;}#sk-container-id-1 div.sk-parallel-item {display: flex;flex-direction: column;z-index: 1;position: relative;background-color: white;}#sk-container-id-1 div.sk-parallel-item:first-child::after {align-self: flex-end;width: 50%;}#sk-container-id-1 div.sk-parallel-item:last-child::after {align-self: flex-start;width: 50%;}#sk-container-id-1 div.sk-parallel-item:only-child::after {width: 0;}#sk-container-id-1 div.sk-dashed-wrapped {border: 1px dashed gray;margin: 0 0.4em 0.5em 0.4em;box-sizing: border-box;padding-bottom: 0.4em;background-color: white;}#sk-container-id-1 div.sk-label label {font-family: monospace;font-weight: bold;display: inline-block;line-height: 1.2em;}#sk-container-id-1 div.sk-label-container {text-align: center;}#sk-container-id-1 div.sk-container {/* jupyter's `normalize.less` sets `[hidden] { display: none; }` but bootstrap.min.css set `[hidden] { display: none !important; }` so we also need the `!important` here to be able to override the default hidden behavior on the sphinx rendered scikit-learn.org. See: https://github.com/scikit-learn/scikit-learn/issues/21755 */display: inline-block !important;position: relative;}#sk-container-id-1 div.sk-text-repr-fallback {display: none;}</style><div id=\"sk-container-id-1\" class=\"sk-top-container\"><div class=\"sk-text-repr-fallback\"><pre>MultinomialNB()</pre><b>In a Jupyter environment, please rerun this cell to show the HTML representation or trust the notebook. <br />On GitHub, the HTML representation is unable to render, please try loading this page with nbviewer.org.</b></div><div class=\"sk-container\" hidden><div class=\"sk-item\"><div class=\"sk-estimator sk-toggleable\"><input class=\"sk-toggleable__control sk-hidden--visually\" id=\"sk-estimator-id-1\" type=\"checkbox\" checked><label for=\"sk-estimator-id-1\" class=\"sk-toggleable__label sk-toggleable__label-arrow\">MultinomialNB</label><div class=\"sk-toggleable__content\"><pre>MultinomialNB()</pre></div></div></div></div></div>"
      ],
      "text/plain": [
       "MultinomialNB()"
      ]
     },
     "execution_count": 10,
     "metadata": {},
     "output_type": "execute_result"
    }
   ],
   "source": [
    "nb_classifier = MultinomialNB()\n",
    "nb_classifier.fit(X_train_vectorized, y_train)"
   ]
  },
  {
   "cell_type": "markdown",
   "id": "2f65bfa3",
   "metadata": {},
   "source": [
    "Prediction"
   ]
  },
  {
   "cell_type": "code",
   "execution_count": 11,
   "id": "16b28f98",
   "metadata": {},
   "outputs": [],
   "source": [
    "y_pred = nb_classifier.predict(X_test_vectorized)"
   ]
  },
  {
   "cell_type": "markdown",
   "id": "dd759ff0",
   "metadata": {},
   "source": [
    "\n",
    "## Step 4: Model Evaluation\n",
    "Evaluate the model using appropriate multi-label classification metrics.\n"
   ]
  },
  {
   "cell_type": "code",
   "execution_count": 12,
   "id": "f4889b93",
   "metadata": {},
   "outputs": [
    {
     "name": "stdout",
     "output_type": "stream",
     "text": [
      "Accuracy: 0.97\n",
      "Classification Report:\n",
      "              precision    recall  f1-score   support\n",
      "\n",
      "           0       0.99      0.99      0.99       469\n",
      "           1       1.00      0.99      1.00       542\n",
      "           2       0.95      0.97      0.96       662\n",
      "           3       0.98      0.85      0.91       439\n",
      "           4       0.91      0.96      0.93      1115\n",
      "           5       0.99      1.00      1.00       723\n",
      "           6       0.99      0.97      0.98       796\n",
      "           7       1.00      1.00      1.00       818\n",
      "           8       0.93      0.92      0.92       728\n",
      "           9       1.00      1.00      1.00       771\n",
      "\n",
      "    accuracy                           0.97      7063\n",
      "   macro avg       0.97      0.97      0.97      7063\n",
      "weighted avg       0.97      0.97      0.97      7063\n",
      "\n"
     ]
    }
   ],
   "source": [
    "# Evaluate the classifier\n",
    "accuracy = accuracy_score(y_test, y_pred)\n",
    "print(f'Accuracy: {accuracy:.2f}')\n",
    "\n",
    "# Display classification report\n",
    "print(\"Classification Report:\")\n",
    "print(classification_report(y_test, y_pred))"
   ]
  },
  {
   "cell_type": "markdown",
   "id": "ac2d56f9",
   "metadata": {},
   "source": [
    "Confusion Matrix"
   ]
  },
  {
   "cell_type": "code",
   "execution_count": 13,
   "id": "1e4aa9f0",
   "metadata": {},
   "outputs": [
    {
     "data": {
      "image/png": "[encoded data removed]",
      "text/plain": [
       "<Figure size 1000x800 with 2 Axes>"
      ]
     },
     "metadata": {},
     "output_type": "display_data"
    }
   ],
   "source": [
    "conf_matrix = confusion_matrix(y_test, y_pred)\n",
    "\n",
    "plt.figure(figsize=(10, 8))\n",
    "sns.heatmap(conf_matrix, annot=True, fmt='d', cmap='Blues', xticklabels=category_mapping.keys(), yticklabels=category_mapping.keys())\n",
    "plt.xlabel('Predicted Class')\n",
    "plt.ylabel('True Class')\n",
    "plt.title('Confusion Matrix')\n",
    "plt.show()"
   ]
  },
  {
   "cell_type": "markdown",
   "id": "f29c85b4",
   "metadata": {},
   "source": [
    "### Save Results in .CSV File"
   ]
  },
  {
   "cell_type": "code",
   "execution_count": 14,
   "id": "1b66059b",
   "metadata": {},
   "outputs": [],
   "source": [
    "# Save Category IDs\n",
    "predictions_df = pd.DataFrame({'Category Label': y_pred})\n",
    "predictions_df.to_csv('Q2.csv', index=False)\n",
    "\n",
    "# Save Category Names\n",
    "# reverse_category_mapping = {v: k for k, v in category_mapping.items()}\n",
    "# predictions_df['Category Label'] = predictions_df['Category Label'].map(reverse_category_mapping)\n",
    "# predictions_df.to_csv('Q2_names.csv', index=False)"
   ]
  },
  {
   "cell_type": "markdown",
   "id": "b50293e1",
   "metadata": {},
   "source": [
    "\n",
    "## Step 5: Conclusion and Discussion\n",
    "Reflect on the model's performance and discuss potential improvements.\n"
   ]
  },
  {
   "cell_type": "markdown",
   "id": "cc6a1e07",
   "metadata": {},
   "source": [
    "As we can see, Generative Bayes Classifier performed quiet well for our data set. The model achieved a 97% accuracy. Using a generative Bayes classifier, such as the Multinomial Naive Bayes classifier, can be a good choice for the given dataset for the following reasons:\n",
    "\n",
    "### 1. Text Classification\n",
    "The dataset involves classifying products based on their 'Product Title' and 'Cluster Label'. Generative Bayes classifiers are commonly used in text classification tasks, where the features are typically discrete or count-based, such as word frequencies or presence/absence of specific words. In this case, the classifier can learn the probabilistic relationship between the words in the titles and the corresponding categories.\n",
    "\n",
    "### 2. Efficiency\n",
    "Generative Bayes classifiers are computationally efficient and have relatively low training and prediction times compared to more complex models. This makes them suitable for large datasets with high-dimensional feature spaces.\n",
    "\n",
    "### 3. Independence Assumption\n",
    "Naive Bayes classifiers assume independence between features given the class label. Although this assumption may not hold in all cases, it can still work reasonably well in practice for text classification tasks. In this dataset, while there may be some dependencies between words in the product titles, Naive Bayes can capture the overall probabilistic patterns and provide effective classification.\n",
    "\n",
    "### 4. Interpretability\n",
    "Naive Bayes classifiers provide interpretability, as they allow you to examine the conditional probabilities of each feature given the class label. This can be useful in understanding the important features or words that contribute to the classification decisions."
   ]
  }
 ],
 "metadata": {
  "kernelspec": {
   "display_name": "Python 3",
   "language": "python",
   "name": "python3"
  },
  "language_info": {
   "codemirror_mode": {
    "name": "ipython",
    "version": 3
   },
   "file_extension": ".py",
   "mimetype": "text/x-python",
   "name": "python",
   "nbconvert_exporter": "python",
   "pygments_lexer": "ipython3",
   "version": "3.10.0"
  }
 },
 "nbformat": 4,
 "nbformat_minor": 5
}
