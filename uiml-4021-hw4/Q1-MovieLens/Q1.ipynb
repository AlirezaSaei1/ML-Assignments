{
  "cells": [
    {
      "cell_type": "markdown",
      "metadata": {},
      "source": [
        "### Download Required Data\n",
        "Link: http://files.grouplens.org/datasets/movielens/ml-100k.zip"
      ]
    },
    {
      "cell_type": "markdown",
      "metadata": {},
      "source": [
        "### Required Libraries"
      ]
    },
    {
      "cell_type": "code",
      "execution_count": 1,
      "metadata": {},
      "outputs": [
        {
          "name": "stdout",
          "output_type": "stream",
          "text": [
            "WARNING:tensorflow:From c:\\Users\\ASUS\\AppData\\Local\\Programs\\Python\\Python310\\lib\\site-packages\\keras\\src\\losses.py:2976: The name tf.losses.sparse_softmax_cross_entropy is deprecated. Please use tf.compat.v1.losses.sparse_softmax_cross_entropy instead.\n",
            "\n"
          ]
        }
      ],
      "source": [
        "import pandas as pd\n",
        "import numpy as np\n",
        "import matplotlib.pyplot as plt\n",
        "from sklearn.preprocessing import LabelEncoder\n",
        "from collections import defaultdict\n",
        "from sklearn.model_selection import train_test_split\n",
        "import tensorflow as tf\n",
        "from tensorflow.keras import layers, models\n",
        "from tensorflow.keras.callbacks import EarlyStopping"
      ]
    },
    {
      "cell_type": "markdown",
      "metadata": {},
      "source": [
        "### Read Data Set"
      ]
    },
    {
      "cell_type": "code",
      "execution_count": 2,
      "metadata": {},
      "outputs": [
        {
          "data": {
            "text/html": [
              "<div>\n",
              "<style scoped>\n",
              "    .dataframe tbody tr th:only-of-type {\n",
              "        vertical-align: middle;\n",
              "    }\n",
              "\n",
              "    .dataframe tbody tr th {\n",
              "        vertical-align: top;\n",
              "    }\n",
              "\n",
              "    .dataframe thead th {\n",
              "        text-align: right;\n",
              "    }\n",
              "</style>\n",
              "<table border=\"1\" class=\"dataframe\">\n",
              "  <thead>\n",
              "    <tr style=\"text-align: right;\">\n",
              "      <th></th>\n",
              "      <th>user_id</th>\n",
              "      <th>item_id</th>\n",
              "      <th>rating</th>\n",
              "    </tr>\n",
              "  </thead>\n",
              "  <tbody>\n",
              "    <tr>\n",
              "      <th>0</th>\n",
              "      <td>196</td>\n",
              "      <td>242</td>\n",
              "      <td>3</td>\n",
              "    </tr>\n",
              "    <tr>\n",
              "      <th>1</th>\n",
              "      <td>186</td>\n",
              "      <td>302</td>\n",
              "      <td>3</td>\n",
              "    </tr>\n",
              "    <tr>\n",
              "      <th>2</th>\n",
              "      <td>22</td>\n",
              "      <td>377</td>\n",
              "      <td>1</td>\n",
              "    </tr>\n",
              "    <tr>\n",
              "      <th>3</th>\n",
              "      <td>244</td>\n",
              "      <td>51</td>\n",
              "      <td>2</td>\n",
              "    </tr>\n",
              "    <tr>\n",
              "      <th>4</th>\n",
              "      <td>166</td>\n",
              "      <td>346</td>\n",
              "      <td>1</td>\n",
              "    </tr>\n",
              "  </tbody>\n",
              "</table>\n",
              "</div>"
            ],
            "text/plain": [
              "   user_id  item_id  rating\n",
              "0      196      242       3\n",
              "1      186      302       3\n",
              "2       22      377       1\n",
              "3      244       51       2\n",
              "4      166      346       1"
            ]
          },
          "execution_count": 2,
          "metadata": {},
          "output_type": "execute_result"
        }
      ],
      "source": [
        "ratings = pd.read_csv('ml-100k/u.data', sep='\\t', header=None, names=['user_id', 'item_id', 'rating', 'timestamp'])\n",
        "ratings.drop('timestamp', axis=1, inplace=True)\n",
        "ratings.head()"
      ]
    },
    {
      "cell_type": "markdown",
      "metadata": {},
      "source": [
        "### Label Encoding"
      ]
    },
    {
      "cell_type": "code",
      "execution_count": 3,
      "metadata": {
        "id": "YogeDhWIckiy"
      },
      "outputs": [],
      "source": [
        "le = LabelEncoder()\n",
        "ratings['user_id'] = le.fit_transform(ratings['user_id'])\n",
        "ratings['item_id'] = le.fit_transform(ratings['item_id'])"
      ]
    },
    {
      "cell_type": "markdown",
      "metadata": {},
      "source": [
        "### Train Test Split"
      ]
    },
    {
      "cell_type": "code",
      "execution_count": 4,
      "metadata": {
        "colab": {
          "base_uri": "https://localhost:8080/",
          "height": 206
        },
        "id": "yBO4CNoGdcYG",
        "outputId": "d217a9c1-c05a-4189-c07e-6cb99a90757a"
      },
      "outputs": [
        {
          "data": {
            "text/html": [
              "<div>\n",
              "<style scoped>\n",
              "    .dataframe tbody tr th:only-of-type {\n",
              "        vertical-align: middle;\n",
              "    }\n",
              "\n",
              "    .dataframe tbody tr th {\n",
              "        vertical-align: top;\n",
              "    }\n",
              "\n",
              "    .dataframe thead th {\n",
              "        text-align: right;\n",
              "    }\n",
              "</style>\n",
              "<table border=\"1\" class=\"dataframe\">\n",
              "  <thead>\n",
              "    <tr style=\"text-align: right;\">\n",
              "      <th></th>\n",
              "      <th>user_id</th>\n",
              "      <th>item_id</th>\n",
              "      <th>rating</th>\n",
              "    </tr>\n",
              "  </thead>\n",
              "  <tbody>\n",
              "    <tr>\n",
              "      <th>41114</th>\n",
              "      <td>200</td>\n",
              "      <td>302</td>\n",
              "      <td>2</td>\n",
              "    </tr>\n",
              "    <tr>\n",
              "      <th>15571</th>\n",
              "      <td>279</td>\n",
              "      <td>386</td>\n",
              "      <td>4</td>\n",
              "    </tr>\n",
              "    <tr>\n",
              "      <th>79524</th>\n",
              "      <td>823</td>\n",
              "      <td>324</td>\n",
              "      <td>4</td>\n",
              "    </tr>\n",
              "    <tr>\n",
              "      <th>8117</th>\n",
              "      <td>12</td>\n",
              "      <td>47</td>\n",
              "      <td>5</td>\n",
              "    </tr>\n",
              "    <tr>\n",
              "      <th>51260</th>\n",
              "      <td>697</td>\n",
              "      <td>704</td>\n",
              "      <td>4</td>\n",
              "    </tr>\n",
              "  </tbody>\n",
              "</table>\n",
              "</div>"
            ],
            "text/plain": [
              "       user_id  item_id  rating\n",
              "41114      200      302       2\n",
              "15571      279      386       4\n",
              "79524      823      324       4\n",
              "8117        12       47       5\n",
              "51260      697      704       4"
            ]
          },
          "execution_count": 4,
          "metadata": {},
          "output_type": "execute_result"
        }
      ],
      "source": [
        "train_data, test_data = train_test_split(ratings, test_size=0.2)\n",
        "train_data.head()"
      ]
    },
    {
      "cell_type": "code",
      "execution_count": 5,
      "metadata": {
        "colab": {
          "base_uri": "https://localhost:8080/"
        },
        "id": "YyupF033eJQj",
        "outputId": "14489f7e-c30f-4b3f-e8bb-14e7940ede48"
      },
      "outputs": [
        {
          "name": "stdout",
          "output_type": "stream",
          "text": [
            "Number of users: 943, Number of Movies: 1645, Min rating: 1, Max rating: 5\n"
          ]
        }
      ],
      "source": [
        "num_users = len(train_data.user_id.unique())\n",
        "num_movies = len(train_data.item_id.unique())\n",
        "min_rating = train_data['rating'].min()\n",
        "max_rating = train_data['rating'].max()\n",
        "\n",
        "print(\"Number of users: {}, Number of Movies: {}, Min rating: {}, Max rating: {}\".format(num_users, num_movies, min_rating, max_rating))"
      ]
    },
    {
      "cell_type": "markdown",
      "metadata": {},
      "source": [
        "# Neural Collaborative Filtering (NCF)\n",
        "For the loss function there are several options:\n",
        "- ### MSE (Chosen)\n",
        "    If you're treating the recommendation problem as a regression task, where the goal is to predict the actual ratings given by users\n",
        "\n",
        "- ### Categorical Cross-Entropy\n",
        "    If you're turning the problem into a classification task, where you discretize the ratings into categories or bins\n",
        "    \n",
        "- ### Binary Cross-Entropy\n",
        "    If you're simplifying the problem to binary classification, such as predicting whether a user will like or dislike an item"
      ]
    },
    {
      "cell_type": "code",
      "execution_count": 6,
      "metadata": {},
      "outputs": [],
      "source": [
        "def create_ncf_model_lightning(num_users, num_items, latent_dim=512, fc_layer_dims=[1024, 512, 128, 64]):\n",
        "    user_ix = tf.keras.Input(shape=(1,))\n",
        "    item_ix = tf.keras.Input(shape=(1,))\n",
        "    \n",
        "    # Matrix Factorization (MF) Part Components\n",
        "    user_embedding_layer = layers.Embedding(input_dim=num_users, output_dim=latent_dim)\n",
        "    item_embedding_layer = layers.Embedding(input_dim=num_items, output_dim=latent_dim)\n",
        "\n",
        "    # MLP Part Components\n",
        "    fc_layers = []\n",
        "    for idx, (in_dim, out_dim) in enumerate(zip(fc_layer_dims[:-1], fc_layer_dims[1:])):\n",
        "        fc_layers.append(layers.Dense(units=out_dim, activation='relu'))\n",
        "\n",
        "    # Output Components\n",
        "    logits = layers.Dense(units=1)\n",
        "\n",
        "    # MF Part\n",
        "    user_embedding = user_embedding_layer(user_ix)\n",
        "    item_embedding = item_embedding_layer(item_ix)\n",
        "    relevance_product = tf.multiply(user_embedding, item_embedding)\n",
        "\n",
        "    # MLP Part\n",
        "    user_item_embs = tf.concat([user_embedding, item_embedding], axis=-1)\n",
        "    for fc_layer in fc_layers:\n",
        "        user_item_embs = fc_layer(user_item_embs)\n",
        "\n",
        "    # Output\n",
        "    final_latent_rep = tf.concat([user_item_embs, relevance_product], axis=-1)\n",
        "    output = logits(final_latent_rep)\n",
        "\n",
        "    model = tf.keras.Model(inputs=[user_ix, item_ix], outputs=output)\n",
        "    \n",
        "    return model"
      ]
    },
    {
      "cell_type": "code",
      "execution_count": 7,
      "metadata": {},
      "outputs": [
        {
          "name": "stdout",
          "output_type": "stream",
          "text": [
            "WARNING:tensorflow:From c:\\Users\\ASUS\\AppData\\Local\\Programs\\Python\\Python310\\lib\\site-packages\\keras\\src\\backend.py:1398: The name tf.executing_eagerly_outside_functions is deprecated. Please use tf.compat.v1.executing_eagerly_outside_functions instead.\n",
            "\n"
          ]
        }
      ],
      "source": [
        "num_users = ratings['user_id'].nunique()\n",
        "num_items = ratings['item_id'].nunique()\n",
        "\n",
        "model = create_ncf_model_lightning(num_users, num_items, latent_dim=512, fc_layer_dims=[1024, 512, 128, 64])\n",
        "\n",
        "model.compile(optimizer=tf.keras.optimizers.Adam(learning_rate=1e-3), loss=tf.keras.losses.MeanSquaredError())"
      ]
    },
    {
      "cell_type": "markdown",
      "metadata": {},
      "source": [
        "### Train NCF"
      ]
    },
    {
      "cell_type": "code",
      "execution_count": 8,
      "metadata": {},
      "outputs": [
        {
          "name": "stdout",
          "output_type": "stream",
          "text": [
            "Epoch 1/10\n",
            "WARNING:tensorflow:From c:\\Users\\ASUS\\AppData\\Local\\Programs\\Python\\Python310\\lib\\site-packages\\keras\\src\\utils\\tf_utils.py:492: The name tf.ragged.RaggedTensorValue is deprecated. Please use tf.compat.v1.ragged.RaggedTensorValue instead.\n",
            "\n",
            "313/313 [==============================] - 8s 22ms/step - loss: 1.6250 - val_loss: 0.9356\n",
            "Epoch 2/10\n",
            "313/313 [==============================] - 7s 21ms/step - loss: 0.8974 - val_loss: 0.9155\n",
            "Epoch 3/10\n",
            "313/313 [==============================] - 6s 19ms/step - loss: 0.8471 - val_loss: 0.9012\n",
            "Epoch 4/10\n",
            "313/313 [==============================] - 6s 19ms/step - loss: 0.7764 - val_loss: 0.8899\n",
            "Epoch 5/10\n",
            "313/313 [==============================] - 6s 19ms/step - loss: 0.6894 - val_loss: 0.9099\n",
            "Epoch 6/10\n",
            "313/313 [==============================] - 6s 19ms/step - loss: 0.5831 - val_loss: 0.9254\n",
            "Epoch 7/10\n",
            "313/313 [==============================] - 6s 19ms/step - loss: 0.4800 - val_loss: 0.9530\n"
          ]
        }
      ],
      "source": [
        "early_stopping = EarlyStopping(monitor='val_loss', patience=3, restore_best_weights=True)\n",
        "\n",
        "history = model.fit(x=[ratings['user_id'], ratings['item_id']], y=ratings['rating'],\n",
        "                    batch_size=256, epochs=10, validation_split=0.2, callbacks=[early_stopping])"
      ]
    },
    {
      "cell_type": "markdown",
      "metadata": {},
      "source": [
        "### Plot Loss History"
      ]
    },
    {
      "cell_type": "code",
      "execution_count": 9,
      "metadata": {},
      "outputs": [
        {
          "data": {
            "image/png": "[encoded data removed]",
            "text/plain": [
              "<Figure size 640x480 with 1 Axes>"
            ]
          },
          "metadata": {},
          "output_type": "display_data"
        }
      ],
      "source": [
        "plt.plot(history.history['loss'], label='Training Loss')\n",
        "plt.plot(history.history['val_loss'], label='Validation Loss')\n",
        "plt.title('Training and Validation Loss')\n",
        "plt.xlabel('Epoch')\n",
        "plt.ylabel('Loss')\n",
        "plt.legend()\n",
        "plt.show()"
      ]
    },
    {
      "cell_type": "markdown",
      "metadata": {},
      "source": [
        "### Recall@10"
      ]
    },
    {
      "cell_type": "code",
      "execution_count": 10,
      "metadata": {},
      "outputs": [],
      "source": [
        "def precision_recall_at_k(predictions, test_data, k, threshold):\n",
        "    # First map the predictions to each user.\n",
        "    user_est_true = defaultdict(list)\n",
        "    for uid, true_r, est in zip(test_data['user_id'], test_data['rating'], predictions):\n",
        "        user_est_true[uid].append((est, true_r))\n",
        "\n",
        "    precisions = dict()\n",
        "    recalls = dict()\n",
        "    for uid, user_ratings in user_est_true.items():\n",
        "\n",
        "        # Sort user ratings by estimated value\n",
        "        user_ratings.sort(key=lambda x: x[0], reverse=True)\n",
        "\n",
        "        # Number of relevant items\n",
        "        n_rel = sum((true_r >= threshold) for (_, true_r) in user_ratings)\n",
        "\n",
        "        # Number of recommended items in top k\n",
        "        n_rec_k = sum((est >= threshold) for (est, _) in user_ratings[:k])\n",
        "\n",
        "        # Number of relevant and recommended items in top k\n",
        "        n_rel_and_rec_k = sum(((true_r >= threshold) and (est >= threshold))\n",
        "                              for (est, true_r) in user_ratings[:k])\n",
        "\n",
        "        # Precision@K: Proportion of recommended items that are relevant\n",
        "        precisions[uid] = n_rel_and_rec_k / n_rec_k if n_rec_k != 0 else 1\n",
        "\n",
        "        # Recall@K: Proportion of relevant items that are recommended\n",
        "        recalls[uid] = n_rel_and_rec_k / n_rel if n_rel != 0 else 1\n",
        "\n",
        "    return precisions, recalls"
      ]
    },
    {
      "cell_type": "code",
      "execution_count": 11,
      "metadata": {},
      "outputs": [
        {
          "name": "stdout",
          "output_type": "stream",
          "text": [
            "625/625 [==============================] - 1s 2ms/step\n",
            "Average Recall@10: 0.3460\n"
          ]
        }
      ],
      "source": [
        "predicted_ratings = model.predict([test_data['user_id'], test_data['item_id']])\n",
        "\n",
        "k = 10\n",
        "threshold = 4.0\n",
        "\n",
        "_, recalls = precision_recall_at_k(predicted_ratings, test_data, k, threshold)\n",
        "\n",
        "avg_recall = sum(recalls.values()) / len(recalls)\n",
        "\n",
        "print(f'Average Recall@{k}: {avg_recall.squeeze():.4f}')"
      ]
    },
    {
      "cell_type": "markdown",
      "metadata": {},
      "source": [
        "### Recommend Top 10 Movies to a Random User"
      ]
    },
    {
      "cell_type": "code",
      "execution_count": 12,
      "metadata": {},
      "outputs": [
        {
          "name": "stdout",
          "output_type": "stream",
          "text": [
            "52/52 [==============================] - 0s 2ms/step\n",
            "Random User: 79\n",
            "Top 10 Recommended Movies:\n",
            "318\n",
            "1449\n",
            "64\n",
            "603\n",
            "100\n",
            "272\n",
            "633\n",
            "313\n",
            "187\n",
            "484\n"
          ]
        }
      ],
      "source": [
        "np.random.seed(42)\n",
        "random_user = np.random.choice(test_data['user_id'].unique())\n",
        "all_items = np.arange(num_movies)\n",
        "\n",
        "user_ratings = np.repeat(random_user, num_movies)\n",
        "item_ratings = all_items\n",
        "predicted_user_ratings = model.predict([user_ratings, item_ratings])\n",
        "\n",
        "sorted_indices = np.argsort(predicted_user_ratings.flatten())[::-1]\n",
        "\n",
        "top_10_movies = le.inverse_transform(sorted_indices[:10])\n",
        "\n",
        "print(\"Random User:\", random_user)\n",
        "print(\"Top 10 Recommended Movies:\")\n",
        "for movie in top_10_movies:\n",
        "    print(movie)"
      ]
    }
  ],
  "metadata": {
    "colab": {
      "provenance": []
    },
    "kernelspec": {
      "display_name": "Python 3",
      "name": "python3"
    },
    "language_info": {
      "codemirror_mode": {
        "name": "ipython",
        "version": 3
      },
      "file_extension": ".py",
      "mimetype": "text/x-python",
      "name": "python",
      "nbconvert_exporter": "python",
      "pygments_lexer": "ipython3",
      "version": "3.10.0"
    }
  },
  "nbformat": 4,
  "nbformat_minor": 0
}
